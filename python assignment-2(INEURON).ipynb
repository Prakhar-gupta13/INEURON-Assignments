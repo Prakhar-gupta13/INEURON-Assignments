{
 "cells": [
  {
   "cell_type": "markdown",
   "id": "6e3c793c",
   "metadata": {},
   "source": [
    "# 1. Create the below pattern using nested for loop in Python. \n",
    "\n",
    "\n",
    "\n",
    "\n",
    "\n"
   ]
  },
  {
   "cell_type": "code",
   "execution_count": 2,
   "id": "92c97cc7",
   "metadata": {},
   "outputs": [
    {
     "data": {
      "text/plain": [
       "'\\n*\\n* *\\n* * *\\n* * * *\\n* * * \\n* * \\n*\\n\\n'"
      ]
     },
     "execution_count": 2,
     "metadata": {},
     "output_type": "execute_result"
    }
   ],
   "source": [
    "\"\"\"\n",
    "*\n",
    "* *\n",
    "* * *\n",
    "* * * *\n",
    "* * * \n",
    "* * \n",
    "*\n",
    "\n",
    "\"\"\""
   ]
  },
  {
   "cell_type": "code",
   "execution_count": 13,
   "id": "7a63f5be",
   "metadata": {},
   "outputs": [
    {
     "name": "stdout",
     "output_type": "stream",
     "text": [
      "enter the number:7\n",
      " \n",
      "*  \n",
      "* *  \n",
      "* * *  \n",
      "* * * *  \n",
      "* * * * *  \n",
      "* * * * * *  \n",
      "* * * * *  \n",
      "* * * *  \n",
      "* * *  \n",
      "* *  \n",
      "*  \n",
      " \n"
     ]
    }
   ],
   "source": [
    "n=int(input(\"enter the number:\"))\n",
    "\n",
    "for i in range(0,n):\n",
    "    for j in range(i):\n",
    "        print( \"*\" , end= \" \")\n",
    "    print( \" \")\n",
    "    \n",
    "for i in range(n-1,0,-1):\n",
    "    for j in range(i-1):\n",
    "        print( \"*\",end =\" \")\n",
    "    print(\" \")"
   ]
  },
  {
   "cell_type": "markdown",
   "id": "18128314",
   "metadata": {},
   "source": [
    "# 2. Write a Python program to reverse a word after accepting the input from the user. "
   ]
  },
  {
   "cell_type": "code",
   "execution_count": 14,
   "id": "d5ea1969",
   "metadata": {},
   "outputs": [
    {
     "name": "stdout",
     "output_type": "stream",
     "text": [
      "enter a word :ineuron\n",
      "norueni\n"
     ]
    }
   ],
   "source": [
    "a=input(\"enter a word :\")\n",
    "print(a[::-1])"
   ]
  },
  {
   "cell_type": "code",
   "execution_count": 28,
   "id": "009015d3",
   "metadata": {},
   "outputs": [
    {
     "data": {
      "text/plain": [
       "'rahkarp'"
      ]
     },
     "execution_count": 28,
     "metadata": {},
     "output_type": "execute_result"
    }
   ],
   "source": [
    "def reverse_string(a):\n",
    "    b=\"\"\n",
    "    for i in a:\n",
    "        b= i+b\n",
    "    return b\n",
    "    \n",
    "reverse_string(\"prakhar\")    "
   ]
  },
  {
   "cell_type": "code",
   "execution_count": null,
   "id": "6452f7c5",
   "metadata": {},
   "outputs": [],
   "source": []
  }
 ],
 "metadata": {
  "kernelspec": {
   "display_name": "Python 3",
   "language": "python",
   "name": "python3"
  },
  "language_info": {
   "codemirror_mode": {
    "name": "ipython",
    "version": 3
   },
   "file_extension": ".py",
   "mimetype": "text/x-python",
   "name": "python",
   "nbconvert_exporter": "python",
   "pygments_lexer": "ipython3",
   "version": "3.8.8"
  }
 },
 "nbformat": 4,
 "nbformat_minor": 5
}
